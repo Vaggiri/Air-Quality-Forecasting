{
  "nbformat": 4,
  "nbformat_minor": 0,
  "metadata": {
    "colab": {
      "provenance": []
    },
    "kernelspec": {
      "name": "python3",
      "display_name": "Python 3"
    },
    "language_info": {
      "name": "python"
    }
  },
  "cells": [
    {
      "cell_type": "code",
      "execution_count": null,
      "metadata": {
        "colab": {
          "base_uri": "https://localhost:8080/",
          "height": 627
        },
        "id": "XiL4P4PRxJdG",
        "outputId": "4f555424-0c1c-44d7-df62-86ae07737a41"
      },
      "outputs": [
        {
          "output_type": "stream",
          "name": "stdout",
          "text": [
            "📈 Predictions for the next 5 hours:\n",
            "\n",
            "🔮 Temperature Prediction:\n",
            "2025-08-06 23:58 → 28.23\n",
            "2025-08-07 00:58 → 27.16\n",
            "2025-08-07 01:58 → 27.16\n",
            "2025-08-07 02:58 → 27.16\n",
            "2025-08-07 03:58 → 27.16\n",
            "\n",
            "🔮 Humidity Prediction:\n",
            "2025-08-06 23:58 → 53.3\n",
            "2025-08-07 00:58 → 53.6\n",
            "2025-08-07 01:58 → 53.6\n",
            "2025-08-07 02:58 → 53.6\n",
            "2025-08-07 03:58 → 53.6\n",
            "\n",
            "🔮 Carbon Prediction:\n",
            "2025-08-06 23:58 → 378.76\n",
            "2025-08-07 00:58 → 382.2\n",
            "2025-08-07 01:58 → 382.2\n",
            "2025-08-07 02:58 → 382.2\n",
            "2025-08-07 03:58 → 382.2\n"
          ]
        },
        {
          "output_type": "stream",
          "name": "stderr",
          "text": [
            "/tmp/ipython-input-1516480203.py:43: FutureWarning: 'H' is deprecated and will be removed in a future version, please use 'h' instead.\n",
            "  future_dates = pd.date_range(df['timestamp'].max(), periods=5, freq='H')\n",
            "/usr/local/lib/python3.11/dist-packages/sklearn/utils/validation.py:2739: UserWarning: X does not have valid feature names, but LinearRegression was fitted with feature names\n",
            "  warnings.warn(\n",
            "/tmp/ipython-input-1516480203.py:43: FutureWarning: 'H' is deprecated and will be removed in a future version, please use 'h' instead.\n",
            "  future_dates = pd.date_range(df['timestamp'].max(), periods=5, freq='H')\n",
            "/usr/local/lib/python3.11/dist-packages/sklearn/utils/validation.py:2739: UserWarning: X does not have valid feature names, but LinearRegression was fitted with feature names\n",
            "  warnings.warn(\n",
            "/tmp/ipython-input-1516480203.py:43: FutureWarning: 'H' is deprecated and will be removed in a future version, please use 'h' instead.\n",
            "  future_dates = pd.date_range(df['timestamp'].max(), periods=5, freq='H')\n",
            "/usr/local/lib/python3.11/dist-packages/sklearn/utils/validation.py:2739: UserWarning: X does not have valid feature names, but LinearRegression was fitted with feature names\n",
            "  warnings.warn(\n"
          ]
        },
        {
          "output_type": "display_data",
          "data": {
            "text/plain": [
              "<IPython.core.display.Javascript object>"
            ],
            "application/javascript": [
              "\n",
              "    async function download(id, filename, size) {\n",
              "      if (!google.colab.kernel.accessAllowed) {\n",
              "        return;\n",
              "      }\n",
              "      const div = document.createElement('div');\n",
              "      const label = document.createElement('label');\n",
              "      label.textContent = `Downloading \"${filename}\": `;\n",
              "      div.appendChild(label);\n",
              "      const progress = document.createElement('progress');\n",
              "      progress.max = size;\n",
              "      div.appendChild(progress);\n",
              "      document.body.appendChild(div);\n",
              "\n",
              "      const buffers = [];\n",
              "      let downloaded = 0;\n",
              "\n",
              "      const channel = await google.colab.kernel.comms.open(id);\n",
              "      // Send a message to notify the kernel that we're ready.\n",
              "      channel.send({})\n",
              "\n",
              "      for await (const message of channel.messages) {\n",
              "        // Send a message to notify the kernel that we're ready.\n",
              "        channel.send({})\n",
              "        if (message.buffers) {\n",
              "          for (const buffer of message.buffers) {\n",
              "            buffers.push(buffer);\n",
              "            downloaded += buffer.byteLength;\n",
              "            progress.value = downloaded;\n",
              "          }\n",
              "        }\n",
              "      }\n",
              "      const blob = new Blob(buffers, {type: 'application/binary'});\n",
              "      const a = document.createElement('a');\n",
              "      a.href = window.URL.createObjectURL(blob);\n",
              "      a.download = filename;\n",
              "      div.appendChild(a);\n",
              "      a.click();\n",
              "      div.remove();\n",
              "    }\n",
              "  "
            ]
          },
          "metadata": {}
        },
        {
          "output_type": "display_data",
          "data": {
            "text/plain": [
              "<IPython.core.display.Javascript object>"
            ],
            "application/javascript": [
              "download(\"download_56a78b53-3e17-46f6-ab66-d1d196723255\", \"heatmap_with_predictions.html\", 7836)"
            ]
          },
          "metadata": {}
        }
      ],
      "source": [
        "import pandas as pd\n",
        "import folium\n",
        "from folium.plugins import HeatMap\n",
        "from sklearn.linear_model import LinearRegression\n",
        "import numpy as np\n",
        "import matplotlib.pyplot as plt\n",
        "from google.colab import files\n",
        "\n",
        "# Step 1: Load Data\n",
        "url = \"https://docs.google.com/spreadsheets/d/e/2PACX-1vSwpoN3FMStDvEZmrG5-5goEPTTyEQrR5XGd3mcUou8lqKmLC44q2SMuuiL_1dGRcvuFVPSeB_gMvjs/pub?output=csv\"\n",
        "df = pd.read_csv(url)\n",
        "\n",
        "# Step 2: Clean Data\n",
        "df = df.loc[:, ~df.columns.str.contains('^Unnamed')]\n",
        "df = df.iloc[:, :5]\n",
        "df.columns = ['timestamp', 'location', 'temperature', 'humidity', 'carbon']\n",
        "df[['lat', 'lng']] = df['location'].str.split(',', expand=True)\n",
        "df['lat'] = df['lat'].astype(float)\n",
        "df['lng'] = df['lng'].astype(float)\n",
        "\n",
        "# Step 3: Create HeatMap Base\n",
        "m = folium.Map(location=[df['lat'].mean(), df['lng'].mean()], zoom_start=12)\n",
        "\n",
        "# Step 4: HeatMap Layers\n",
        "for feature in ['temperature', 'humidity', 'carbon']:\n",
        "    heat_data = [[row['lat'], row['lng'], row[feature]] for _, row in df.iterrows()]\n",
        "    HeatMap(heat_data, radius=15, name=feature).add_to(m)\n",
        "\n",
        "folium.LayerControl().add_to(m)\n",
        "\n",
        "# Step 5: Predictions Using Linear Regression\n",
        "df['timestamp'] = pd.to_datetime(df['timestamp'])\n",
        "df = df.sort_values('timestamp')\n",
        "df['time_ordinal'] = df['timestamp'].map(pd.Timestamp.toordinal)\n",
        "\n",
        "predictions = {}\n",
        "for feature in ['temperature', 'humidity', 'carbon']:\n",
        "    X = df[['time_ordinal']]\n",
        "    y = df[feature]\n",
        "    model = LinearRegression()\n",
        "    model.fit(X, y)\n",
        "\n",
        "    future_dates = pd.date_range(df['timestamp'].max(), periods=5, freq='H')\n",
        "    future_ordinals = future_dates.map(pd.Timestamp.toordinal).values.reshape(-1, 1)\n",
        "    future_preds = model.predict(future_ordinals)\n",
        "\n",
        "    predictions[feature] = list(zip(future_dates.strftime('%Y-%m-%d %H:%M'), future_preds))\n",
        "\n",
        "# Step 6: Show Predictions\n",
        "print(\"📈 Predictions for the next 5 hours:\")\n",
        "for feature in predictions:\n",
        "    print(f\"\\n🔮 {feature.capitalize()} Prediction:\")\n",
        "    for timestamp, value in predictions[feature]:\n",
        "        print(f\"{timestamp} → {round(value, 2)}\")\n",
        "\n",
        "# Step 7: Save map\n",
        "m.save(\"heatmap_with_predictions.html\")\n",
        "files.download(\"heatmap_with_predictions.html\")\n"
      ]
    },
    {
      "cell_type": "code",
      "source": [],
      "metadata": {
        "id": "jhBFgZX2yYQl"
      },
      "execution_count": null,
      "outputs": []
    },
    {
      "cell_type": "markdown",
      "source": [],
      "metadata": {
        "id": "IggzPUGR06uJ"
      }
    }
  ]
}